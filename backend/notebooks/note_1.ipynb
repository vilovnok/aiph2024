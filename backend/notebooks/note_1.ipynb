{
 "cells": [
  {
   "cell_type": "code",
   "execution_count": 12,
   "metadata": {},
   "outputs": [],
   "source": [
    "import pandas as pd\n",
    "\n",
    "df_qa = pd.read_csv('../data/processed/data_qa.csv')\n",
    "df_qa_top = pd.read_csv('../data/processed/data_qa_popular.csv')\n",
    "df_glossary = pd.read_csv('../data/processed/data_glossary.csv')"
   ]
  },
  {
   "cell_type": "markdown",
   "metadata": {},
   "source": [
    "# Preprocessing"
   ]
  },
  {
   "cell_type": "code",
   "execution_count": 13,
   "metadata": {},
   "outputs": [],
   "source": [
    "df_qa = df_qa.iloc[2:, 2:]# Сбрасываем индексы\n",
    "df_glossary = df_glossary.iloc[1:, 1:]\n",
    "df_qa_top = df_qa_top.iloc[1:, 1:]\n",
    "df_glossary.rename(columns={'Сокращение': 'category', 'Расшифровка': 'description'}, inplace=True)\n",
    "df_qa.reset_index(drop=True, inplace=True)"
   ]
  },
  {
   "cell_type": "code",
   "execution_count": 14,
   "metadata": {},
   "outputs": [
    {
     "data": {
      "text/plain": [
       "array(['автомобиль', 'БиР', 'больничный', 'график работы', 'доверенность',\n",
       "       'зарплата', 'заявки', 'командировка', 'ЛК', 'материальная помощь',\n",
       "       'моя карьера', 'МЧД', 'налоговый вычет', 'отгул', 'отпуск',\n",
       "       'перевод', 'поддержка', 'ЭЦП', 'документооборот',\n",
       "       'прием на работу', 'СБ', 'справка', 'табель', 'увольнение',\n",
       "       'удаленная работа', 'уход за больным', 'SED', 'выручай-карта',\n",
       "       'дмс', 'оператор', 'обучение', 'Отпуск'], dtype=object)"
      ]
     },
     "execution_count": 14,
     "metadata": {},
     "output_type": "execute_result"
    }
   ],
   "source": [
    "df_qa['category'].unique()"
   ]
  },
  {
   "cell_type": "code",
   "execution_count": 19,
   "metadata": {},
   "outputs": [],
   "source": [
    "categories = df_qa['category'].unique()"
   ]
  },
  {
   "cell_type": "code",
   "execution_count": 23,
   "metadata": {},
   "outputs": [
    {
     "data": {
      "text/html": [
       "<div>\n",
       "<style scoped>\n",
       "    .dataframe tbody tr th:only-of-type {\n",
       "        vertical-align: middle;\n",
       "    }\n",
       "\n",
       "    .dataframe tbody tr th {\n",
       "        vertical-align: top;\n",
       "    }\n",
       "\n",
       "    .dataframe thead th {\n",
       "        text-align: right;\n",
       "    }\n",
       "</style>\n",
       "<table border=\"1\" class=\"dataframe\">\n",
       "  <thead>\n",
       "    <tr style=\"text-align: right;\">\n",
       "      <th></th>\n",
       "      <th>question</th>\n",
       "      <th>content</th>\n",
       "      <th>category</th>\n",
       "    </tr>\n",
       "  </thead>\n",
       "  <tbody>\n",
       "    <tr>\n",
       "      <th>0</th>\n",
       "      <td>добавить автомобиль</td>\n",
       "      <td>Для внесения данных по личному автомобилю обра...</td>\n",
       "      <td>автомобиль</td>\n",
       "    </tr>\n",
       "    <tr>\n",
       "      <th>1</th>\n",
       "      <td>хочу внести данные об автомобиле</td>\n",
       "      <td>Для внесения данных по личному автомобилю обра...</td>\n",
       "      <td>автомобиль</td>\n",
       "    </tr>\n",
       "    <tr>\n",
       "      <th>2</th>\n",
       "      <td>Как внести данные об автомобиле?</td>\n",
       "      <td>Для внесения данных по личному автомобилю обра...</td>\n",
       "      <td>автомобиль</td>\n",
       "    </tr>\n",
       "    <tr>\n",
       "      <th>3</th>\n",
       "      <td>мне нужно внести данные об автомобиле</td>\n",
       "      <td>Для внесения данных по личному автомобилю обра...</td>\n",
       "      <td>автомобиль</td>\n",
       "    </tr>\n",
       "    <tr>\n",
       "      <th>4</th>\n",
       "      <td>внести машину</td>\n",
       "      <td>Для внесения данных по личному автомобилю обра...</td>\n",
       "      <td>автомобиль</td>\n",
       "    </tr>\n",
       "    <tr>\n",
       "      <th>5</th>\n",
       "      <td>При смене автомобиля, который используется в с...</td>\n",
       "      <td>Для внесения данных по личному автомобилю обра...</td>\n",
       "      <td>автомобиль</td>\n",
       "    </tr>\n",
       "  </tbody>\n",
       "</table>\n",
       "</div>"
      ],
      "text/plain": [
       "                                            question  \\\n",
       "0                                добавить автомобиль   \n",
       "1                   хочу внести данные об автомобиле   \n",
       "2                   Как внести данные об автомобиле?   \n",
       "3              мне нужно внести данные об автомобиле   \n",
       "4                                      внести машину   \n",
       "5  При смене автомобиля, который используется в с...   \n",
       "\n",
       "                                             content    category  \n",
       "0  Для внесения данных по личному автомобилю обра...  автомобиль  \n",
       "1  Для внесения данных по личному автомобилю обра...  автомобиль  \n",
       "2  Для внесения данных по личному автомобилю обра...  автомобиль  \n",
       "3  Для внесения данных по личному автомобилю обра...  автомобиль  \n",
       "4  Для внесения данных по личному автомобилю обра...  автомобиль  \n",
       "5  Для внесения данных по личному автомобилю обра...  автомобиль  "
      ]
     },
     "execution_count": 23,
     "metadata": {},
     "output_type": "execute_result"
    }
   ],
   "source": [
    "df_qa[df_qa['category'] == categories[0]]"
   ]
  },
  {
   "cell_type": "code",
   "execution_count": 25,
   "metadata": {},
   "outputs": [
    {
     "data": {
      "text/html": [
       "<div>\n",
       "<style scoped>\n",
       "    .dataframe tbody tr th:only-of-type {\n",
       "        vertical-align: middle;\n",
       "    }\n",
       "\n",
       "    .dataframe tbody tr th {\n",
       "        vertical-align: top;\n",
       "    }\n",
       "\n",
       "    .dataframe thead th {\n",
       "        text-align: right;\n",
       "    }\n",
       "</style>\n",
       "<table border=\"1\" class=\"dataframe\">\n",
       "  <thead>\n",
       "    <tr style=\"text-align: right;\">\n",
       "      <th></th>\n",
       "      <th>question</th>\n",
       "      <th>content</th>\n",
       "      <th>category</th>\n",
       "    </tr>\n",
       "  </thead>\n",
       "  <tbody>\n",
       "    <tr>\n",
       "      <th>503</th>\n",
       "      <td>вход в личный кабинет</td>\n",
       "      <td>При проблемах со входом в личный кабинет, преж...</td>\n",
       "      <td>ЛК</td>\n",
       "    </tr>\n",
       "    <tr>\n",
       "      <th>930</th>\n",
       "      <td>надбавка</td>\n",
       "      <td>Создайте, пожалуйста, обращение в ИТ поддержку...</td>\n",
       "      <td>поддержка</td>\n",
       "    </tr>\n",
       "    <tr>\n",
       "      <th>1662</th>\n",
       "      <td>надбавка</td>\n",
       "      <td>По данному вопросу Вы можете обратиться в кадр...</td>\n",
       "      <td>ЛК</td>\n",
       "    </tr>\n",
       "    <tr>\n",
       "      <th>1667</th>\n",
       "      <td>вход в личный кабинет</td>\n",
       "      <td>При проблемах со входом в личный кабинет, преж...</td>\n",
       "      <td>ЛК</td>\n",
       "    </tr>\n",
       "  </tbody>\n",
       "</table>\n",
       "</div>"
      ],
      "text/plain": [
       "                   question  \\\n",
       "503   вход в личный кабинет   \n",
       "930                надбавка   \n",
       "1662               надбавка   \n",
       "1667  вход в личный кабинет   \n",
       "\n",
       "                                                content   category  \n",
       "503   При проблемах со входом в личный кабинет, преж...         ЛК  \n",
       "930   Создайте, пожалуйста, обращение в ИТ поддержку...  поддержка  \n",
       "1662  По данному вопросу Вы можете обратиться в кадр...         ЛК  \n",
       "1667  При проблемах со входом в личный кабинет, преж...         ЛК  "
      ]
     },
     "execution_count": 25,
     "metadata": {},
     "output_type": "execute_result"
    }
   ],
   "source": [
    "df_qa[df_qa.duplicated(subset=['question'], keep=False)]"
   ]
  }
 ],
 "metadata": {
  "kernelspec": {
   "display_name": "ml",
   "language": "python",
   "name": "python3"
  },
  "language_info": {
   "codemirror_mode": {
    "name": "ipython",
    "version": 3
   },
   "file_extension": ".py",
   "mimetype": "text/x-python",
   "name": "python",
   "nbconvert_exporter": "python",
   "pygments_lexer": "ipython3",
   "version": "3.9.18"
  }
 },
 "nbformat": 4,
 "nbformat_minor": 2
}
