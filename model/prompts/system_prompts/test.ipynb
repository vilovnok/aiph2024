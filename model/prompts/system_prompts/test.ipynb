{
 "cells": [
  {
   "cell_type": "code",
   "execution_count": 1,
   "metadata": {},
   "outputs": [
    {
     "name": "stdout",
     "output_type": "stream",
     "text": [
      "Ты помощник перевода текста на английский язык. Тебе на вход приходит запрос QUERY на русском языке.\n",
      "Твоя задача перевести QUERY на английский язык. Верни только одну строку на английском языке!\n",
      "\n",
      "<Пример>\n",
      "QUERY:\n",
      "Привет, я Джон. Как у тебя дела?\n",
      "Твой ответ:\n",
      "Hello, my name is John. How are you doing?\n",
      "<Конец примера>\n",
      "\n",
      "QUERY:\n",
      "{query}\n",
      "Твой ответ:\n"
     ]
    }
   ],
   "source": [
    "def read_prompt(file_path):\n",
    "    with open(file_path, 'r', encoding='utf-8') as file:\n",
    "        return file.read()\n",
    "\n",
    "prompt = read_prompt(\"support_prompts.txt\")\n",
    "\n",
    "print(prompt)"
   ]
  }
 ],
 "metadata": {
  "kernelspec": {
   "display_name": "ml",
   "language": "python",
   "name": "python3"
  },
  "language_info": {
   "codemirror_mode": {
    "name": "ipython",
    "version": 3
   },
   "file_extension": ".py",
   "mimetype": "text/x-python",
   "name": "python",
   "nbconvert_exporter": "python",
   "pygments_lexer": "ipython3",
   "version": "3.9.18"
  }
 },
 "nbformat": 4,
 "nbformat_minor": 2
}
